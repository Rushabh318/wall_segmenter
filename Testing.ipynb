{
 "cells": [
  {
   "cell_type": "code",
   "execution_count": 2,
   "metadata": {
    "executionInfo": {
     "elapsed": 1780,
     "status": "ok",
     "timestamp": 1612467983111,
     "user": {
      "displayName": "Ana Lazovic",
      "photoUrl": "",
      "userId": "05256186913734842649"
     },
     "user_tz": -60
    },
    "id": "W5o8jzdaH9ea"
   },
   "outputs": [],
   "source": [
    "# System libs\n",
    "import os, torch, PIL.Image, numpy\n",
    "\n",
    "# Our libs\n",
    "from Models.models import SegmentationModule, build_encoder, build_decoder\n",
    "from eval import eval_one_img, main_evaluate, segment_image"
   ]
  },
  {
   "cell_type": "code",
   "execution_count": 3,
   "metadata": {
    "colab": {
     "base_uri": "https://localhost:8080/"
    },
    "executionInfo": {
     "elapsed": 74914,
     "status": "ok",
     "timestamp": 1612468056256,
     "user": {
      "displayName": "Ana Lazovic",
      "photoUrl": "",
      "userId": "05256186913734842649"
     },
     "user_tz": -60
    },
    "id": "5nxhPO1DKxsH",
    "outputId": "30ad646e-fbf9-45b6-e913-f0abd41ad1df"
   },
   "outputs": [
    {
     "name": "stdout",
     "output_type": "stream",
     "text": [
      "Starting evaluation\n",
      "100 iteration: Average accuracy: 0.841176011326017; Average IOU: 0.5886072269353917;\n",
      "200 iteration: Average accuracy: 0.8452164921811033; Average IOU: 0.5782574403132186;\n",
      "300 iteration: Average accuracy: 0.8496099132048996; Average IOU: 0.561901246689018;\n",
      "400 iteration: Average accuracy: 0.8435032656270687; Average IOU: 0.5668585949819736;\n",
      "500 iteration: Average accuracy: 0.8471598272511089; Average IOU: 0.5735088437258739;\n",
      "600 iteration: Average accuracy: 0.8476455623702608; Average IOU: 0.5701395675731914;\n",
      "[Eval Summary]:\n",
      "Average accuracy on validation set is: 0.8481762460523834; Average IOU on validation set is: 0.5686539785608671.\n",
      "Evaluation Done!\n"
     ]
    }
   ],
   "source": [
    "# First approach to model training\n",
    "avg_acc1, avg_IOU1, max_IOU_img1, max_IOU1 = main_evaluate( transfer_learn_all = False, transfer_learn_decoder = False )"
   ]
  },
  {
   "cell_type": "code",
   "execution_count": 5,
   "metadata": {
    "colab": {
     "base_uri": "https://localhost:8080/"
    },
    "executionInfo": {
     "elapsed": 145779,
     "status": "ok",
     "timestamp": 1612468127141,
     "user": {
      "displayName": "Ana Lazovic",
      "photoUrl": "",
      "userId": "05256186913734842649"
     },
     "user_tz": -60
    },
    "id": "Y84eg0LsKx9o",
    "outputId": "e23b9d41-3d45-4a35-cd97-9f872bd2f196"
   },
   "outputs": [
    {
     "name": "stdout",
     "output_type": "stream",
     "text": [
      "Starting evaluation\n",
      "100 iteration: Average accuracy: 0.8614929378591011; Average IOU: 0.624853474432647;\n",
      "200 iteration: Average accuracy: 0.859740741883539; Average IOU: 0.6019982778741185;\n",
      "300 iteration: Average accuracy: 0.8620487818820621; Average IOU: 0.5828593382553254;\n",
      "400 iteration: Average accuracy: 0.8586068975767305; Average IOU: 0.5889518570963235;\n",
      "500 iteration: Average accuracy: 0.8621488538773191; Average IOU: 0.5959802069361658;\n",
      "600 iteration: Average accuracy: 0.8619164853532592; Average IOU: 0.591991698253546;\n",
      "[Eval Summary]:\n",
      "Average accuracy on validation set is: 0.8624849166518607; Average IOU on validation set is: 0.5908132462404332.\n",
      "Evaluation Done!\n"
     ]
    }
   ],
   "source": [
    "# Second approach to model training\n",
    "avg_acc2, avg_IOU2, max_IOU_img2, max_IOU2 = main_evaluate( transfer_learn_decoder = True )"
   ]
  },
  {
   "cell_type": "code",
   "execution_count": 7,
   "metadata": {
    "colab": {
     "base_uri": "https://localhost:8080/"
    },
    "executionInfo": {
     "elapsed": 216558,
     "status": "ok",
     "timestamp": 1612468197936,
     "user": {
      "displayName": "Ana Lazovic",
      "photoUrl": "",
      "userId": "05256186913734842649"
     },
     "user_tz": -60
    },
    "id": "Tb7n4g0JKyN6",
    "outputId": "e957aae1-5174-41cc-fa74-cafe7916504c"
   },
   "outputs": [
    {
     "name": "stdout",
     "output_type": "stream",
     "text": [
      "Starting evaluation\n",
      "100 iteration: Average accuracy: 0.9069650237847076; Average IOU: 0.7228179550359534;\n",
      "200 iteration: Average accuracy: 0.9035424168353973; Average IOU: 0.6999077450565924;\n",
      "300 iteration: Average accuracy: 0.9049448743483405; Average IOU: 0.6855301305061904;\n",
      "400 iteration: Average accuracy: 0.9024104846532731; Average IOU: 0.689013669186446;\n",
      "500 iteration: Average accuracy: 0.9035421229345106; Average IOU: 0.6922290653843997;\n",
      "600 iteration: Average accuracy: 0.9036724025521979; Average IOU: 0.6903582233485077;\n",
      "[Eval Summary]:\n",
      "Average accuracy on validation set is: 0.9039122710476171; Average IOU on validation set is: 0.6879045044480672.\n",
      "Evaluation Done!\n"
     ]
    }
   ],
   "source": [
    "# Third approach to model training\n",
    "avg_acc3, avg_IOU3, max_IOU_img3, max_IOU3 = main_evaluate( transfer_learn_all = True )"
   ]
  },
  {
   "cell_type": "code",
   "execution_count": 9,
   "metadata": {
    "colab": {
     "base_uri": "https://localhost:8080/"
    },
    "executionInfo": {
     "elapsed": 220279,
     "status": "ok",
     "timestamp": 1612468201674,
     "user": {
      "displayName": "Ana Lazovic",
      "photoUrl": "",
      "userId": "05256186913734842649"
     },
     "user_tz": -60
    },
    "id": "LDDIKfa9mwy-",
    "outputId": "92dc12da-b934-4eb2-cbb8-cc4b47521d9e"
   },
   "outputs": [
    {
     "name": "stdout",
     "output_type": "stream",
     "text": [
      "Models created!\n"
     ]
    }
   ],
   "source": [
    "# Network Builders\n",
    "net_encoder1 = build_encoder(pretrained = False, train_only_wall = True)\n",
    "net_decoder1 = build_decoder(pretrained = False, train_only_wall = True)\n",
    "\n",
    "weights_encoder = 'Model weights/Output_only_encoder.pth'\n",
    "weights_decoder = 'Model weights/Output_only_decoder.pth'\n",
    "    \n",
    "net_encoder1.load_state_dict(  torch.load( weights_encoder, map_location = lambda storage, loc: storage ), strict = False )\n",
    "net_decoder1.load_state_dict(  torch.load( weights_decoder, map_location = lambda storage, loc: storage ), strict = False )\n",
    "\n",
    "segmentation_module1 = SegmentationModule(net_encoder1, net_decoder1)\n",
    "segmentation_module1.eval()\n",
    "segmentation_module1.cuda()\n",
    "\n",
    "net_encoder2 = build_encoder(pretrained = False, train_only_wall = True)\n",
    "net_decoder2 = build_decoder(pretrained = False, train_only_wall = True)\n",
    "\n",
    "weights_encoder = 'Model weights/transfer_encoder.pth'\n",
    "weights_decoder = 'Model weights/transfer_decoder.pth'\n",
    "\n",
    "net_encoder2.load_state_dict(  torch.load( weights_encoder, map_location = lambda storage, loc: storage ), strict = False )\n",
    "net_decoder2.load_state_dict(  torch.load( weights_decoder, map_location = lambda storage, loc: storage ), strict = False )\n",
    "\n",
    "segmentation_module2 = SegmentationModule(net_encoder2, net_decoder2)\n",
    "segmentation_module2.eval()\n",
    "segmentation_module2.cuda()\n",
    "\n",
    "net_encoder3 = build_encoder(pretrained = False, train_only_wall = True)\n",
    "net_decoder3 = build_decoder(pretrained = False, train_only_wall = True)\n",
    "\n",
    "weights_encoder = 'Model weights/wall_encoder_epoch_20.pth'\n",
    "weights_decoder = 'Model weights/wall_decoder_epoch_20.pth'\n",
    "\n",
    "net_encoder3.load_state_dict(  torch.load( weights_encoder, map_location = lambda storage, loc: storage ), strict = False )\n",
    "net_decoder3.load_state_dict(  torch.load( weights_decoder, map_location = lambda storage, loc: storage ), strict = False )\n",
    "\n",
    "segmentation_module3 = SegmentationModule(net_encoder3, net_decoder3)\n",
    "segmentation_module3.eval()\n",
    "segmentation_module3.cuda()\n",
    "print('Models created!')"
   ]
  },
  {
   "cell_type": "code",
   "execution_count": 12,
   "metadata": {
    "colab": {
     "base_uri": "https://localhost:8080/",
     "height": 1000,
     "output_embedded_package_id": "1tlRSIyP42S91otWHjbsUGhsw0C51i-do"
    },
    "executionInfo": {
     "elapsed": 3235,
     "status": "ok",
     "timestamp": 1612468226060,
     "user": {
      "displayName": "Ana Lazovic",
      "photoUrl": "",
      "userId": "05256186913734842649"
     },
     "user_tz": -60
    },
    "id": "wOLLgwYsHoRX",
    "outputId": "1814dc15-7dbd-4300-b443-b56bab2e9f2b"
   },
   "outputs": [
    {
     "data": {
      "text/plain": [
       "Output hidden; open in https://colab.research.google.com to view."
      ]
     },
     "metadata": {},
     "output_type": "display_data"
    }
   ],
   "source": [
    "image_number = 161\n",
    "print('First model')\n",
    "_ = eval_one_img( segmentation_module1,'data/', img_number = image_number )\n",
    "print('Second model')\n",
    "_ = eval_one_img( segmentation_module2,'data/', img_number = image_number )\n",
    "print('Third model')\n",
    "_ = eval_one_img( segmentation_module3,'data/', img_number = image_number )"
   ]
  },
  {
   "cell_type": "code",
   "execution_count": 11,
   "metadata": {
    "executionInfo": {
     "elapsed": 223299,
     "status": "ok",
     "timestamp": 1612468204717,
     "user": {
      "displayName": "Ana Lazovic",
      "photoUrl": "",
      "userId": "05256186913734842649"
     },
     "user_tz": -60
    },
    "id": "OpLKFTTOPHcQ"
   },
   "outputs": [],
   "source": [
    "# Testing the model on arbitrary image\n",
    "image_path = 'path to the image' \n",
    "\n",
    "img = PIL.Image.open(image_path).convert('RGB')\n",
    "img_original = numpy.array(img)\n",
    "\n",
    "print('First model')\n",
    "segment_image( segmentation_module1, img )\n",
    "\n",
    "print('Second model')\n",
    "segment_image( segmentation_module2, img )\n",
    "\n",
    "print('Third model')\n",
    "segment_image( segmentation_module3, img )"
   ]
  }
 ],
 "metadata": {
  "accelerator": "GPU",
  "colab": {
   "collapsed_sections": [],
   "name": "Testing.ipynb",
   "provenance": []
  },
  "kernelspec": {
   "display_name": "Python 3",
   "language": "python",
   "name": "python3"
  },
  "language_info": {
   "codemirror_mode": {
    "name": "ipython",
    "version": 3
   },
   "file_extension": ".py",
   "mimetype": "text/x-python",
   "name": "python",
   "nbconvert_exporter": "python",
   "pygments_lexer": "ipython3",
   "version": "3.7.6"
  }
 },
 "nbformat": 4,
 "nbformat_minor": 1
}
