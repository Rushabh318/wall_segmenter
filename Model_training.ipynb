{
 "cells": [
  {
   "cell_type": "code",
   "execution_count": null,
   "metadata": {
    "id": "-VbA0tRMLLrf"
   },
   "outputs": [],
   "source": [
    "from train import main_train"
   ]
  },
  {
   "cell_type": "code",
   "execution_count": null,
   "metadata": {
    "colab": {
     "base_uri": "https://localhost:8080/"
    },
    "id": "5PmrwICyLLrg",
    "outputId": "35fee4ea-50da-4398-8447-b3b0b6100d78"
   },
   "outputs": [
    {
     "name": "stdout",
     "output_type": "stream",
     "text": [
      "Number of different images: 20210\n",
      "Starting training\n",
      "Epoch: [1][20/5000], Accuracy: 20.91, Loss: 4.417532\n",
      "Epoch: [1][40/5000], Accuracy: 21.04, Loss: 4.005749\n",
      "Epoch: [1][60/5000], Accuracy: 21.00, Loss: 3.805940\n",
      "Epoch: [1][80/5000], Accuracy: 22.28, Loss: 3.686140\n",
      "Epoch: [1][100/5000], Accuracy: 22.14, Loss: 3.658879\n"
     ]
    }
   ],
   "source": [
    "main_train( last_epoch_trained = 0 )"
   ]
  }
 ],
 "metadata": {
  "accelerator": "GPU",
  "colab": {
   "collapsed_sections": [],
   "name": "Model_training.ipynb",
   "provenance": []
  },
  "kernelspec": {
   "display_name": "Python 3",
   "language": "python",
   "name": "python3"
  },
  "language_info": {
   "codemirror_mode": {
    "name": "ipython",
    "version": 3
   },
   "file_extension": ".py",
   "mimetype": "text/x-python",
   "name": "python",
   "nbconvert_exporter": "python",
   "pygments_lexer": "ipython3",
   "version": "3.7.6"
  }
 },
 "nbformat": 4,
 "nbformat_minor": 1
}
